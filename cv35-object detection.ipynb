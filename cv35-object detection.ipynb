{
 "cells": [
  {
   "cell_type": "code",
   "execution_count": 1,
   "id": "537b8978",
   "metadata": {},
   "outputs": [],
   "source": [
    "import numpy as np\n",
    "import cv2"
   ]
  },
  {
   "cell_type": "code",
   "execution_count": 13,
   "id": "8208eb23",
   "metadata": {},
   "outputs": [
    {
     "name": "stdout",
     "output_type": "stream",
     "text": [
      "(614, 1000, 3)\n",
      "(614, 1000)\n",
      "(446, 869)\n",
      "1\n",
      "(469, 144)\n"
     ]
    }
   ],
   "source": [
    "import numpy as np\n",
    "import cv2\n",
    "\n",
    "\n",
    "img =cv2.imread('C:/Users/AK/Documents/superheros.jpg')\n",
    "grey_img = cv2.cvtColor(img, cv2.COLOR_BGR2GRAY)\n",
    "#img= cv2.resize(img,(400,600))\n",
    "#grey_img=cv2.resize(grey_img,(400,600))\n",
    "temp=cv2.imread('C:/Users/AK/Documents/dg.jpg',0)\n",
    "\n",
    "w,h =temp.shape[::-1]\n",
    "\n",
    "print(img.shape)\n",
    "print(grey_img.shape)\n",
    "print(res.shape)\n",
    "\n",
    "res=cv2.matchTemplate(grey_img,temp,cv2.TM_CCOEFF_NORMED)\n",
    "\n",
    "thresh=0.99\n",
    "\n",
    "loc=np.where(res>=thresh)\n",
    "\n",
    "count=0\n",
    "for i in zip(*loc[::-1]):\n",
    "    cv2.rectangle(img,i,(i[0]+w,i[1]+h),(0,0,255),2)\n",
    "    count+=1\n",
    "    print(count)\n",
    "    print(i)\n",
    "#res=cv2.resize(res,(400,600))    \n",
    "cv2.imshow('img',img)\n",
    "cv2.imshow('res',res)\n",
    "\n",
    "cv2.waitKey(0)\n",
    "cv2.destroyAllWindows()\n",
    "\n",
    "\n",
    "\n",
    "\n"
   ]
  },
  {
   "cell_type": "code",
   "execution_count": null,
   "id": "2feadf12",
   "metadata": {},
   "outputs": [],
   "source": []
  },
  {
   "cell_type": "code",
   "execution_count": null,
   "id": "84fe2cba",
   "metadata": {},
   "outputs": [],
   "source": []
  }
 ],
 "metadata": {
  "kernelspec": {
   "display_name": "Python 3 (ipykernel)",
   "language": "python",
   "name": "python3"
  },
  "language_info": {
   "codemirror_mode": {
    "name": "ipython",
    "version": 3
   },
   "file_extension": ".py",
   "mimetype": "text/x-python",
   "name": "python",
   "nbconvert_exporter": "python",
   "pygments_lexer": "ipython3",
   "version": "3.11.3"
  }
 },
 "nbformat": 4,
 "nbformat_minor": 5
}
